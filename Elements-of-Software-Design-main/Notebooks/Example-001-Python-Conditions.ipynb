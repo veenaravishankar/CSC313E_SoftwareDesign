{
 "cells": [
  {
   "cell_type": "markdown",
   "metadata": {},
   "source": [
    "# Python Conditions\n",
    "\n",
    "In Python, a conditional allows you to make a decision. In its simplest form it is stated as follows:\n",
    "\n",
    "```python\n",
    "if cond:\n",
    "    ...\n",
    "    cond_body\n",
    "    ...\n",
    "```\n"
   ]
  },
  {
   "cell_type": "code",
   "execution_count": 2,
   "metadata": {},
   "outputs": [
    {
     "name": "stdout",
     "output_type": "stream",
     "text": [
      "x is bigger than 5\n"
     ]
    }
   ],
   "source": [
    "x = 10 \n",
    "\n",
    "if x > 5:\n",
    "    print(\"x is bigger than 5\")"
   ]
  },
  {
   "cell_type": "markdown",
   "metadata": {},
   "source": [
    "The expression cond is a Boolean expression that evaluates to either *True* or *False*. If the condition is True then the body of code associated with it gets executed. If the condition is *False* nothing happens, the excution is resumed from the statement following the if block.\n",
    "\n",
    "If you wanted to execute something else when the condition is False then you would introduce an else part like so:\n",
    "\n",
    "```python\n",
    "    \n",
    "if cond:\n",
    "    ...\n",
    "    if_body\n",
    "    ...\n",
    "  else:\n",
    "    ...\n",
    "    else_body\n",
    "    ...\n",
    "```\n",
    "\n"
   ]
  },
  {
   "cell_type": "code",
   "execution_count": 3,
   "metadata": {},
   "outputs": [
    {
     "name": "stdout",
     "output_type": "stream",
     "text": [
      "x is positive\n"
     ]
    }
   ],
   "source": [
    "# Example. \n",
    "\n",
    "if x<0:\n",
    "    print(\"x is negative\")\n",
    "else:\n",
    "    print(\"x is positive\")"
   ]
  },
  {
   "cell_type": "code",
   "execution_count": 4,
   "metadata": {},
   "outputs": [
    {
     "name": "stdout",
     "output_type": "stream",
     "text": [
      "x is positive\n"
     ]
    }
   ],
   "source": [
    "print(\"x is negative\" if x<0 else \"x is positive\")"
   ]
  },
  {
   "cell_type": "markdown",
   "metadata": {},
   "source": [
    "Remember to indent properly to delineate the body of code associated with the if part from the body of code associated with the else part.\n",
    "\n",
    "**What if you did not want to do anything in the if part but only had code for the else part? **\n",
    "\n",
    "Python has a statement called **pass** which as the name imples does nothing.\n",
    "\n",
    "```python\n",
    "  if cond:\n",
    "    pass\n",
    "  else:\n",
    "    ...\n",
    "    else_body\n",
    "    ...\n",
    "```\n",
    "\n"
   ]
  },
  {
   "cell_type": "markdown",
   "metadata": {},
   "source": [
    "if (x<0):\n",
    "    pass    \n",
    "else:    \n",
    "    print(\"x is positive.\")\n"
   ]
  },
  {
   "cell_type": "markdown",
   "metadata": {},
   "source": [
    "**Normally this is not how you would program.**\n",
    "\n",
    "You would reformulate the Boolean expression so that it evaluates to *True* for the else and use a single if to express the condition."
   ]
  },
  {
   "cell_type": "code",
   "execution_count": 5,
   "metadata": {},
   "outputs": [
    {
     "name": "stdout",
     "output_type": "stream",
     "text": [
      "x is positive.\n"
     ]
    }
   ],
   "source": [
    "# Just like this!\n",
    "if x>0:\n",
    "    print(\"x is positive.\")    \n",
    "    "
   ]
  },
  {
   "cell_type": "markdown",
   "metadata": {},
   "source": [
    "## Nested Conditions"
   ]
  },
  {
   "cell_type": "markdown",
   "metadata": {},
   "source": [
    "You can also have nested conditonals depending upon the situation. Here is an example of that structure:\n",
    "\n",
    "```python\n",
    "if cond1:\n",
    "    ...\n",
    "    if_1_body\n",
    "    ...\n",
    "else:\n",
    "    if cond2:\n",
    "      ...\n",
    "      if_2_body\n",
    "      ...\n",
    "    else:\n",
    "      ...\n",
    "      else_body\n",
    "      ...\n",
    "```\n",
    "\n"
   ]
  },
  {
   "cell_type": "markdown",
   "metadata": {},
   "source": [
    "### Example"
   ]
  },
  {
   "cell_type": "code",
   "execution_count": 6,
   "metadata": {},
   "outputs": [
    {
     "name": "stdout",
     "output_type": "stream",
     "text": [
      "value is bigger than 5\n"
     ]
    }
   ],
   "source": [
    "if x<0:\n",
    "    print(\"negative value\")\n",
    "\n",
    "else:\n",
    "    if x < 5:\n",
    "        print(\"value is smaller than 5\")\n",
    "    else:\n",
    "        print(\"value is bigger than 5\")\n",
    "            "
   ]
  },
  {
   "cell_type": "markdown",
   "metadata": {},
   "source": [
    "### Nested Conditions are difficult to understand\n",
    "\n",
    "As you can see nested conditions with multiple levels can get very nasty and not so easy to understand. Also, we have to be very carefull with indentation here. \n",
    "\n"
   ]
  },
  {
   "cell_type": "markdown",
   "metadata": {},
   "source": [
    "**Python allows a simpler way of nesting conditionals.**\n",
    "\n",
    "You can use the keyword **elif** that is a contraction of the words else and if. \n",
    "\n",
    "So that the above code can be rewritten as follows:\n",
    "\n",
    "```python\n",
    " if cond1:\n",
    "    ...\n",
    "    if_1_body\n",
    "    ...\n",
    "  elif cond2:\n",
    "    ...\n",
    "    if_2_body\n",
    "    ...\n",
    "  else:\n",
    "    ...\n",
    "    else_body\n",
    "    ...\n",
    "\n",
    "```\n",
    "\n",
    "In the if-elif-else construct, Python will go through in order all the if and elif conditions. The body of the first condition that is True is executed and the remaining conditions are ignored even if they are True. If none of the conditions are True then body of else part gets executed."
   ]
  },
  {
   "cell_type": "markdown",
   "metadata": {},
   "source": [
    "### Example"
   ]
  },
  {
   "cell_type": "code",
   "execution_count": 8,
   "metadata": {},
   "outputs": [
    {
     "name": "stdout",
     "output_type": "stream",
     "text": [
      "value is bigger than 5\n"
     ]
    }
   ],
   "source": [
    "# If x is smaller than zero print this, \n",
    "# if x is smaller than 5 then print that, other cases we print that. \n",
    "\n",
    "if x<0 :\n",
    "    print(\"negative value\")\n",
    "elif x < 5:\n",
    "    print(\"value is smaller than 5\")\n",
    "else:\n",
    "    print(\"value is bigger than 5\")"
   ]
  },
  {
   "cell_type": "code",
   "execution_count": null,
   "metadata": {},
   "outputs": [],
   "source": []
  }
 ],
 "metadata": {
  "kernelspec": {
   "display_name": "Python 3 (ipykernel)",
   "language": "python",
   "name": "python3"
  },
  "language_info": {
   "codemirror_mode": {
    "name": "ipython",
    "version": 3
   },
   "file_extension": ".py",
   "mimetype": "text/x-python",
   "name": "python",
   "nbconvert_exporter": "python",
   "pygments_lexer": "ipython3",
   "version": "3.9.13"
  }
 },
 "nbformat": 4,
 "nbformat_minor": 4
}
