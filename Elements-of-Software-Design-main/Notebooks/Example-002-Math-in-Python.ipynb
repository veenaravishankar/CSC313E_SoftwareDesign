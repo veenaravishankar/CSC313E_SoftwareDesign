{
 "cells": [
  {
   "cell_type": "markdown",
   "metadata": {},
   "source": [
    "\n",
    "# Doing Math in Python \n",
    "\n",
    "\n",
    "## Numeric Data Types\n",
    "<p>\n",
    "There are two ways numbers are represented internally - integers and\n",
    "floating point numbers. Even though the numbers <i>1</i> and <i>1.0</i>\n",
    "have the same value their internal representation are very different.\n",
    "</p>\n",
    "\n",
    "<p>\n",
    "Computations with integers are exact, whereas those that involve\n",
    "floating point numbers are not. The accuracy of a floating point\n",
    "computation depends on the precision of the numbers used. Greater\n",
    "the precision, the more accurate the result. But there is limit to\n",
    "the precision of floating numbers. The precision is limited to the\n",
    "number of bits used. 32-bit floating point numbers have lower precision\n",
    "than 64-bit numbers. There is also a limit to how big or how small a\n",
    "floating point number you can represent. For a 32-bit representation\n",
    "the range is (+/-) 3.4E38 and for 64-bit representation the range is\n",
    "(+/-) 1.8E308.\n",
    "</p>\n",
    "\n",
    "<p>\n",
    "There is also a limit to the range of integers that you can represent.\n",
    "With 32 bits the range is -2<sup>31</sup> to (2<sup>31</sup> - 1). In\n",
    "mixed operations, those that involve both integers and floating numbers, \n",
    "integers are converted to floating point numbers and the computation \n",
    "performed. \n",
    "    \n",
    "<b><i>Careful:</i></b> consider this expression: 3.5 + (6/4). \n",
    "    \n",
    "The result is 4.5 and not 5.0 as you would expect because the (6/4) is \n",
    "computed as an integer division which truncates the fractional portion \n",
    "of the quotient.\n",
    "</p>\n",
    "\n",
    "\n",
    "You can explicitly convert numbers of one type to another with built-in\n",
    "functions that Python provides:"
   ]
  },
  {
   "cell_type": "code",
   "execution_count": 1,
   "metadata": {},
   "outputs": [],
   "source": [
    "x = 123\n",
    "y = float(x)    # y = 123.0\n",
    "\n",
    "z = 34.89\n",
    "w = int(z)      # w = 34\n",
    "\n",
    "x = 12345678987654321"
   ]
  },
  {
   "cell_type": "markdown",
   "metadata": {},
   "source": [
    "<h4> Math Library </h4>\n",
    "<p>\n",
    "There are lots of useful functions in the \n",
    "<a href = \"https://docs.python.org/3/library/math.html\"> Math\n",
    "Library</a>. To use this library the first statement in your program\n",
    "must be\n",
    "<pre>\n",
    "  import math\n",
    "</pre>"
   ]
  },
  {
   "cell_type": "code",
   "execution_count": 2,
   "metadata": {},
   "outputs": [],
   "source": [
    "import math"
   ]
  },
  {
   "cell_type": "markdown",
   "metadata": {},
   "source": [
    "\n",
    "\n",
    "The Math Library not only has functions but also useful constants like\n",
    "<i>&pi;</i> and <i>e</i>. To use the functions or the constants in your\n",
    "program you must apply the dot operator. The general syntax for usage\n",
    "is <i>math.function()</i> or <i>math.constant</i>. The table below\n",
    "gives just a subset of all the functions available.\n",
    "</p>\n",
    "\n",
    "<center>\n",
    "<table border = \"1\" width = \"75%\">\n",
    "<tr>\n",
    "<th width = \"15%\"> Function </th><th> Meaning </th>\n",
    "</tr>\n",
    "<tr>\n",
    "<td> ceil (x) </td>\n",
    "<td> Return the ceiling of x as a float, the smallest integer value greater \n",
    "     than or equal to x. </td>\n",
    "</tr>\n",
    "<tr>\n",
    "<td> floor (x) </td>\n",
    "<td> Return the floor of x as a float, the largest integer value less than \n",
    "     or equal to x. </td>\n",
    "</tr>\n",
    "<tr>\n",
    "<td> exp (x) </td>\n",
    "<td> Return e**x. </td>\n",
    "</tr>\n",
    "<tr>\n",
    "<td> log (x, base) </td>\n",
    "<td> Return the logarithm of x to the given base. If the base is not specified,\n",
    "    return the natural logarithm of x (that is, the logarithm to base e). </td>\n",
    "</tr>\n",
    "<tr>\n",
    "<td> log10 (x) </td>\n",
    "<td> Return the base-10 logarithm of x. </td>\n",
    "</tr>\n",
    "<tr>\n",
    "<td> pow (x, y) </td>\n",
    "<td> Return x**y. </td>\n",
    "</tr>\n",
    "<tr>\n",
    "<td> sqrt (x) </td>\n",
    "<td> Return the square root of x. </td>\n",
    "</tr>\n",
    "<tr>\n",
    "<td> degrees (x) </td>\n",
    "<td> Converts angle x from radians to degrees. </td>\n",
    "</tr>\n",
    "<tr>\n",
    "<td> radians (x) </td>\n",
    "<td> Converts angle x from degrees to radians. </td>\n",
    "</tr>\n",
    "<tr>\n",
    "<td> sin (x) </td>\n",
    "<td> Return the sine of x radians. </td>\n",
    "</tr>\n",
    "<tr>\n",
    "<td> cos (x) </td>\n",
    "<td> Return the cosine of x radians. </td>\n",
    "</tr>\n",
    "<tr>\n",
    "<td> tan (x) </td>\n",
    "<td> Return the tangent of x radians. </td>\n",
    "</tr>\n",
    "<tr>\n",
    "<td> asin (x) </td>\n",
    "<td> Return the arc sine of x, in radians. </td>\n",
    "</tr>\n",
    "<tr>\n",
    "<td> acos (x) </td>\n",
    "<td> Return the arc cosine of x, in radians. </td>\n",
    "</tr>\n",
    "<tr>\n",
    "<td> atan (x) </td>\n",
    "<td> Return the arc tangent of x, in radians. </td>\n",
    "</tr>\n",
    "<tr>\n",
    "<td> hypot (x, y) </td>\n",
    "<td> Return the Euclidean norm, sqrt(x*x + y*y). This is the length of the \n",
    "     vector from the origin to point (x, y). </td>\n",
    "</tr>\n",
    "<tr>\n",
    "<td> pi </td>\n",
    "<td> The mathematical constant pi. </td>\n",
    "</tr>\n",
    "<tr>\n",
    "<td> e </td>\n",
    "<td> The mathematical constant e. </td>\n",
    "</tr>\n",
    "</table>\n",
    "</center>\n",
    "\n",
    "<h4> Random Number Generation </h4>\n",
    "<p>\n",
    "There are computations that require you to generate random numbers. Python\n",
    "provides a\n",
    "<a href = \"https://docs.python.org/3/library/random.html\"> pseudo \n",
    "random number generator</a>. The word <i>pseudo</i> in this\n",
    "context means that the random number generator is deterministic and after\n",
    "a certain cycle of generating random numbers it starts repeating that cycle.\n",
    "</p>\n",
    "\n",
    "<p>\n",
    "However, for most simple computations the pseudo random number generator \n",
    "works fine since the cycle length is extremely large. All of the random \n",
    "number generating functions comes in a module called <i>random</i> and has \n",
    "to be imported in the program to be used. Your first line of code should\n",
    "read:\n",
    "<pre>\n",
    "  import random\n",
    "</pre>\n",
    "To use the functions you must use the dot operator. The general usage is\n",
    "<i>random.function()</i>. The table below gives a subset of the functions\n",
    "that are available in the <i>random</i> module.\n",
    "</p>\n",
    "\n",
    "<center>\n",
    "<table border = \"1\" width = \"75%\">\n",
    "<tr>\n",
    "<th width = \"25%\"> Function </th><th> Meaning </th>\n",
    "</tr>\n",
    "<tr>\n",
    "<td> randrange (start, stop, step) </td>\n",
    "<td> Return a randomly selected element from range(start, stop, step). </td>\n",
    "</tr>\n",
    "<tr>\n",
    "<td> randint (a, b) </td>\n",
    "<td> Return a random integer N such that a &lt;= N = &lt;= b. </td>\n",
    "</tr>\n",
    "<tr>\n",
    "<td> choice (seq) </td>\n",
    "<td> Return a random element from the non-empty sequence seq. </td>\n",
    "</tr>\n",
    "<tr>\n",
    "<td> shuffle (x) </td>\n",
    "<td> Shuffle the sequence x in place. </td>\n",
    "</tr>\n",
    "<tr>\n",
    "<td> sample (population, k) </td>\n",
    "<td> Return a k length list of unique elements chosen from the population \n",
    "     sequence. Used for random sampling without replacement. </td>\n",
    "</tr>\n",
    "<tr>\n",
    "<td> random () </td>\n",
    "<td> Return the next random floating point number in the range [0.0, 1.0).</td>\n",
    "</tr>\n",
    "<tr>\n",
    "<td> uniform (a, b) </td>\n",
    "<td> Return a random real number N such that a &lt;= N < b. </td>\n",
    "</tr>\n",
    "\n",
    "</table>\n",
    "</center>"
   ]
  },
  {
   "cell_type": "code",
   "execution_count": 3,
   "metadata": {},
   "outputs": [
    {
     "name": "stdout",
     "output_type": "stream",
     "text": [
      "0.052363598850944326\n"
     ]
    }
   ],
   "source": [
    "import random\n",
    "\n",
    "# We can set the initialization of the random process with the seed() function to generate the same outputs \n",
    "\n",
    "random.seed(123)\n",
    "print(random.random())"
   ]
  },
  {
   "cell_type": "code",
   "execution_count": 4,
   "metadata": {},
   "outputs": [
    {
     "data": {
      "text/plain": [
       "0.052363598850944326"
      ]
     },
     "execution_count": 4,
     "metadata": {},
     "output_type": "execute_result"
    }
   ],
   "source": [
    "random.seed(123)\n",
    "# Random float x in the range 0.0 &lt;= x &lt; 1.0\n",
    "x = random.random()               # x = 0.052363598850944326\n",
    "\n",
    "\n",
    "x "
   ]
  },
  {
   "cell_type": "code",
   "execution_count": 5,
   "metadata": {},
   "outputs": [
    {
     "data": {
      "text/plain": [
       "-0.8952728022981113"
      ]
     },
     "execution_count": 5,
     "metadata": {},
     "output_type": "execute_result"
    }
   ],
   "source": [
    "random.seed(123)\n",
    "# Random float x in the range -1.0 &lt;= x &lt; 1.0\n",
    "x = random.uniform (-1.0, 1.0)     # x = -0.8952728022981113\n",
    "\n",
    "x"
   ]
  },
  {
   "cell_type": "code",
   "execution_count": 6,
   "metadata": {},
   "outputs": [
    {
     "data": {
      "text/plain": [
       "12"
      ]
     },
     "execution_count": 6,
     "metadata": {},
     "output_type": "execute_result"
    }
   ],
   "source": [
    "random.seed(123)\n",
    "# Choose a random number from 1 to 100 that is divisible by 3\n",
    "x = random.randrange(3, 100, 3)    # x = 12\n",
    "x"
   ]
  },
  {
   "cell_type": "code",
   "execution_count": 7,
   "metadata": {},
   "outputs": [
    {
     "data": {
      "text/plain": [
       "'a'"
      ]
     },
     "execution_count": 7,
     "metadata": {},
     "output_type": "execute_result"
    }
   ],
   "source": [
    "random.seed(123)\n",
    "# Choose a random element from a sequence\n",
    "seq = ['a', 'e', 'i', 'o', 'u']\n",
    "x = random.choice(seq)             # x = 'a'\n",
    "\n",
    "x"
   ]
  },
  {
   "cell_type": "code",
   "execution_count": 8,
   "metadata": {},
   "outputs": [
    {
     "data": {
      "text/plain": [
       "['a', 'i']"
      ]
     },
     "execution_count": 8,
     "metadata": {},
     "output_type": "execute_result"
    }
   ],
   "source": [
    "random.seed(123)\n",
    "# Choose 2 elements from a population\n",
    "x = random.sample (seq, 2)         # x = ['a', 'i']\n",
    "x"
   ]
  },
  {
   "cell_type": "code",
   "execution_count": 9,
   "metadata": {},
   "outputs": [
    {
     "data": {
      "text/plain": [
       "['o', 'e', 'u', 'i', 'a']"
      ]
     },
     "execution_count": 9,
     "metadata": {},
     "output_type": "execute_result"
    }
   ],
   "source": [
    "random.seed(123)\n",
    "# Shuffle a sequence\n",
    "seq = ['a', 'e', 'i', 'o', 'u']\n",
    "random.shuffle (seq)           # seq = ['o', 'e', 'u', 'i', 'a']\n",
    "seq "
   ]
  },
  {
   "cell_type": "code",
   "execution_count": null,
   "metadata": {},
   "outputs": [],
   "source": []
  }
 ],
 "metadata": {
  "kernelspec": {
   "display_name": "Python 3",
   "language": "python",
   "name": "python3"
  },
  "language_info": {
   "codemirror_mode": {
    "name": "ipython",
    "version": 3
   },
   "file_extension": ".py",
   "mimetype": "text/x-python",
   "name": "python",
   "nbconvert_exporter": "python",
   "pygments_lexer": "ipython3",
   "version": "3.8.3"
  }
 },
 "nbformat": 4,
 "nbformat_minor": 4
}
