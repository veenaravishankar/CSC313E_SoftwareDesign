{
 "cells": [
  {
   "cell_type": "code",
   "execution_count": 18,
   "metadata": {},
   "outputs": [
    {
     "name": "stdout",
     "output_type": "stream",
     "text": [
      "Chris\n",
      "The University of Austin at Texas\n",
      "Professor Chris is working at The University of Austin at Texas, has 2 courses and 2 projects\n",
      "The University of Austin at Texas\n",
      "3\n",
      "Chris's salary is:  23000\n"
     ]
    }
   ],
   "source": [
    "class Professor:\n",
    "    university=\"The University of Austin at Texas\"\n",
    "    \n",
    "    def __init__(self, name, courses, projects):\n",
    "        self.name = name\n",
    "        self.courses = courses\n",
    "        self.projects = projects\n",
    "        \n",
    "    def __str__(self):\n",
    "        return \"Professor \" + self.name + \" is working at \" +  self.__class__.university \\\n",
    "    + \", has \" + str(self.courses) + \" courses and \" + str(self.projects) + \" projects\"\n",
    "    \n",
    "    @property\n",
    "    def courses(self):\n",
    "        return self.__courses\n",
    "\n",
    "            \n",
    "    @courses.setter\n",
    "    def courses(self, n):\n",
    "        if(n > 0 and n<10):\n",
    "            self.__courses=n\n",
    "        else:\n",
    "            print(\"Invalid courses count\")\n",
    "            \n",
    "    @property\n",
    "    def projects(self):\n",
    "        return self.__courses\n",
    "\n",
    "            \n",
    "    @projects.setter\n",
    "    def projects(self, n):\n",
    "        if(n > 0 and n < 20):\n",
    "            self.__projects=n\n",
    "        else:\n",
    "            print(\"Invalid projects count\")\n",
    "    \n",
    "    def add_courses(self, n):\n",
    "        self.__courses = self.__courses+n\n",
    "        \n",
    "    def get_salary(self):\n",
    "        return 1000 * self.__courses + 4000*self.__projects\n",
    "    \n",
    "    \n",
    "\n",
    "k = Professor(\"Chris\", 2, 5)\n",
    "print(k.name)\n",
    "print(k.university)\n",
    "print(k)\n",
    "print(Professor.university)\n",
    "\n",
    "\n",
    "k.add_courses(1)\n",
    "print(k.courses)\n",
    "\n",
    "print(\"Chris's salary is: \", k.get_salary())"
   ]
  },
  {
   "cell_type": "code",
   "execution_count": 19,
   "metadata": {},
   "outputs": [
    {
     "data": {
      "text/plain": [
       "__main__.Professor"
      ]
     },
     "execution_count": 19,
     "metadata": {},
     "output_type": "execute_result"
    }
   ],
   "source": [
    "type(k)"
   ]
  },
  {
   "cell_type": "code",
   "execution_count": 20,
   "metadata": {},
   "outputs": [
    {
     "data": {
      "text/plain": [
       "['_Professor__courses',\n",
       " '_Professor__projects',\n",
       " '__class__',\n",
       " '__delattr__',\n",
       " '__dict__',\n",
       " '__dir__',\n",
       " '__doc__',\n",
       " '__eq__',\n",
       " '__format__',\n",
       " '__ge__',\n",
       " '__getattribute__',\n",
       " '__gt__',\n",
       " '__hash__',\n",
       " '__init__',\n",
       " '__init_subclass__',\n",
       " '__le__',\n",
       " '__lt__',\n",
       " '__module__',\n",
       " '__ne__',\n",
       " '__new__',\n",
       " '__reduce__',\n",
       " '__reduce_ex__',\n",
       " '__repr__',\n",
       " '__setattr__',\n",
       " '__sizeof__',\n",
       " '__str__',\n",
       " '__subclasshook__',\n",
       " '__weakref__',\n",
       " 'add_courses',\n",
       " 'courses',\n",
       " 'get_salary',\n",
       " 'name',\n",
       " 'projects',\n",
       " 'university']"
      ]
     },
     "execution_count": 20,
     "metadata": {},
     "output_type": "execute_result"
    }
   ],
   "source": [
    "dir(k)"
   ]
  },
  {
   "cell_type": "code",
   "execution_count": 21,
   "metadata": {},
   "outputs": [
    {
     "data": {
      "text/plain": [
       "['__class__',\n",
       " '__delattr__',\n",
       " '__dict__',\n",
       " '__dir__',\n",
       " '__doc__',\n",
       " '__eq__',\n",
       " '__format__',\n",
       " '__ge__',\n",
       " '__getattribute__',\n",
       " '__gt__',\n",
       " '__hash__',\n",
       " '__init__',\n",
       " '__init_subclass__',\n",
       " '__le__',\n",
       " '__lt__',\n",
       " '__module__',\n",
       " '__ne__',\n",
       " '__new__',\n",
       " '__reduce__',\n",
       " '__reduce_ex__',\n",
       " '__repr__',\n",
       " '__setattr__',\n",
       " '__sizeof__',\n",
       " '__str__',\n",
       " '__subclasshook__',\n",
       " '__weakref__',\n",
       " 'add_courses',\n",
       " 'courses',\n",
       " 'get_salary',\n",
       " 'projects',\n",
       " 'university']"
      ]
     },
     "execution_count": 21,
     "metadata": {},
     "output_type": "execute_result"
    }
   ],
   "source": [
    "dir(Professor)"
   ]
  },
  {
   "cell_type": "code",
   "execution_count": null,
   "metadata": {},
   "outputs": [],
   "source": []
  }
 ],
 "metadata": {
  "kernelspec": {
   "display_name": "Python 3",
   "language": "python",
   "name": "python3"
  },
  "language_info": {
   "codemirror_mode": {
    "name": "ipython",
    "version": 3
   },
   "file_extension": ".py",
   "mimetype": "text/x-python",
   "name": "python",
   "nbconvert_exporter": "python",
   "pygments_lexer": "ipython3",
   "version": "3.8.3"
  }
 },
 "nbformat": 4,
 "nbformat_minor": 4
}
