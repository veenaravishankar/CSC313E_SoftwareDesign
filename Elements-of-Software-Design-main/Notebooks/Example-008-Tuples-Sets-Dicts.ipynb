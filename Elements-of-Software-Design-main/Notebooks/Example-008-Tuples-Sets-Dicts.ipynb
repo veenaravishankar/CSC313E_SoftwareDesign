{
 "cells": [
  {
   "cell_type": "markdown",
   "metadata": {},
   "source": [
    "# Tuples"
   ]
  },
  {
   "cell_type": "markdown",
   "metadata": {},
   "source": [
    "A <i>tuple</i> is like a list. It is an ordered sequence but unlike\n",
    "a list it is immutable. It is created by specifying the items in the\n",
    "tuple within parentheses and separated by commas."
   ]
  },
  {
   "cell_type": "code",
   "execution_count": 1,
   "metadata": {},
   "outputs": [],
   "source": [
    "coord = (7.3, 2.9)\n",
    "employee_record = ('john', 'doe', '123 Any Street', 'Austin', 'TX')"
   ]
  },
  {
   "cell_type": "markdown",
   "metadata": {},
   "source": [
    "Tuples have many uses like specifying the (x, y) coordinates of a point\n",
    "in Cartesian space or employee records from a database. You may not assign\n",
    "to individual elements in a tuple. You can extract individual elements from\n",
    "a tuple by what is known as <i>sequence unpacking</i>."
   ]
  },
  {
   "cell_type": "code",
   "execution_count": 2,
   "metadata": {},
   "outputs": [],
   "source": [
    "x, y = coord\n",
    "first, last, street, city, state = employee_record"
   ]
  },
  {
   "cell_type": "markdown",
   "metadata": {},
   "source": [
    "In general, use a tuple instead of a list when you know that you will not\n",
    "be changing the elements in it. Going from a list to a tuple and vice versa\n",
    "is fairly simple:"
   ]
  },
  {
   "cell_type": "code",
   "execution_count": 3,
   "metadata": {},
   "outputs": [],
   "source": [
    "a = [1, 2, 3, 4]\n",
    "b = tuple (a)        # b = (1, 2, 3, 4)\n",
    "p = ('a', 'b', 'c')\n",
    "q = list (p)         # q = ['a', 'b', 'c']"
   ]
  },
  {
   "cell_type": "markdown",
   "metadata": {},
   "source": [
    "A function can return a tuple. "
   ]
  },
  {
   "cell_type": "code",
   "execution_count": 4,
   "metadata": {},
   "outputs": [
    {
     "name": "stdout",
     "output_type": "stream",
     "text": [
      "(2.6666666666666665, 2)\n",
      "<class 'tuple'>\n"
     ]
    }
   ],
   "source": [
    "def devide(x, y):\n",
    "    \"\"\"returns a tuple of Division \"\"\"\n",
    "    return x / y, x % y\n",
    "\n",
    "a = 8\n",
    "b = 3\n",
    "\n",
    "result = devide(a,b)\n",
    "\n",
    "print(result)\n",
    "print(type(result))\n",
    "# dir(type)"
   ]
  },
  {
   "cell_type": "markdown",
   "metadata": {},
   "source": [
    "# Set\n",
    "\n",
    "A set is an unordered collection of unique objects. You can create a\n",
    "set from a list. If you do all duplicate elements are eliminated and\n",
    "the ordering is lost."
   ]
  },
  {
   "cell_type": "code",
   "execution_count": 5,
   "metadata": {},
   "outputs": [
    {
     "data": {
      "text/plain": [
       "{1, 2, 3, 4}"
      ]
     },
     "execution_count": 5,
     "metadata": {},
     "output_type": "execute_result"
    }
   ],
   "source": [
    "a = [1, 1, 2, 2, 2, 3, 4, 4, 4, 4]\n",
    "b = set (a)\n",
    "\n",
    "b"
   ]
  },
  {
   "cell_type": "markdown",
   "metadata": {},
   "source": [
    "A set supports the mathematical operations of union, intersection, difference,\n",
    "and symmetric difference."
   ]
  },
  {
   "cell_type": "code",
   "execution_count": 6,
   "metadata": {},
   "outputs": [
    {
     "name": "stdout",
     "output_type": "stream",
     "text": [
      "{'c', 'r', 'b', 'a', 'd'}\n",
      "{'z', 'c', 'm', 'l', 'a'}\n"
     ]
    }
   ],
   "source": [
    "# define two sets\n",
    "a = set ('abracadabra')    \n",
    "b = set ('alacazam')\n",
    "\n",
    "print(a)\n",
    "print(b)"
   ]
  },
  {
   "cell_type": "markdown",
   "metadata": {},
   "source": [
    "## Set theory \n",
    "\n",
    "https://en.wikipedia.org/wiki/Set_theory\n",
    "\n",
    "\n",
    "https://en.wikipedia.org/wiki/Venn_diagram\n",
    " \n",
    "![Venn Diagram](https://upload.wikimedia.org/wikipedia/commons/thumb/6/6d/Venn_A_intersect_B.svg/640px-Venn_A_intersect_B.svg.png)"
   ]
  },
  {
   "cell_type": "code",
   "execution_count": 7,
   "metadata": {},
   "outputs": [
    {
     "data": {
      "text/plain": [
       "{'a', 'b', 'c', 'd', 'l', 'm', 'r', 'z'}"
      ]
     },
     "execution_count": 7,
     "metadata": {},
     "output_type": "execute_result"
    }
   ],
   "source": [
    "# Union of the two sets\n",
    "c = a.union(b)\n",
    "\n",
    "c\n",
    "\n"
   ]
  },
  {
   "cell_type": "code",
   "execution_count": 8,
   "metadata": {},
   "outputs": [
    {
     "data": {
      "text/plain": [
       "{'a', 'b', 'c', 'd', 'l', 'm', 'r', 'z'}"
      ]
     },
     "execution_count": 8,
     "metadata": {},
     "output_type": "execute_result"
    }
   ],
   "source": [
    "x = a | b \n",
    "\n",
    "x"
   ]
  },
  {
   "cell_type": "code",
   "execution_count": 9,
   "metadata": {},
   "outputs": [
    {
     "ename": "TypeError",
     "evalue": "unsupported operand type(s) for +: 'set' and 'set'",
     "output_type": "error",
     "traceback": [
      "\u001b[0;31m---------------------------------------------------------------------------\u001b[0m",
      "\u001b[0;31mTypeError\u001b[0m                                 Traceback (most recent call last)",
      "\u001b[0;32m<ipython-input-9-5356edbac505>\u001b[0m in \u001b[0;36m<module>\u001b[0;34m\u001b[0m\n\u001b[1;32m      2\u001b[0m \u001b[0;31m# https://stackoverflow.com/questions/7692324/why-is-not-understood-by-python-sets\u001b[0m\u001b[0;34m\u001b[0m\u001b[0;34m\u001b[0m\u001b[0;34m\u001b[0m\u001b[0m\n\u001b[1;32m      3\u001b[0m \u001b[0;34m\u001b[0m\u001b[0m\n\u001b[0;32m----> 4\u001b[0;31m \u001b[0md\u001b[0m \u001b[0;34m=\u001b[0m \u001b[0ma\u001b[0m \u001b[0;34m+\u001b[0m \u001b[0mb\u001b[0m\u001b[0;34m\u001b[0m\u001b[0;34m\u001b[0m\u001b[0m\n\u001b[0m\u001b[1;32m      5\u001b[0m \u001b[0;34m\u001b[0m\u001b[0m\n\u001b[1;32m      6\u001b[0m \u001b[0md\u001b[0m\u001b[0;34m\u001b[0m\u001b[0;34m\u001b[0m\u001b[0m\n",
      "\u001b[0;31mTypeError\u001b[0m: unsupported operand type(s) for +: 'set' and 'set'"
     ]
    }
   ],
   "source": [
    "# Python sets don't have an implementation for the + operator.\n",
    "# https://stackoverflow.com/questions/7692324/why-is-not-understood-by-python-sets\n",
    "\n",
    "d = a + b\n",
    "\n",
    "d"
   ]
  },
  {
   "cell_type": "code",
   "execution_count": null,
   "metadata": {},
   "outputs": [],
   "source": [
    "# Intersection of the two sets\n",
    "d = a & b                  \n",
    "d"
   ]
  },
  {
   "cell_type": "code",
   "execution_count": null,
   "metadata": {},
   "outputs": [],
   "source": [
    "# Difference of the two sets (letters in a but not in b)\n",
    "g = a - b                  \n",
    "g"
   ]
  },
  {
   "cell_type": "code",
   "execution_count": null,
   "metadata": {},
   "outputs": [],
   "source": [
    "# Symmetric difference letters in a or b but not both\n",
    "h = a ^ b                  \n",
    "h"
   ]
  },
  {
   "cell_type": "code",
   "execution_count": null,
   "metadata": {},
   "outputs": [],
   "source": [
    "# To get the number of elements in a set\n",
    "num_elements = len (a)\n",
    "\n"
   ]
  },
  {
   "cell_type": "code",
   "execution_count": null,
   "metadata": {},
   "outputs": [],
   "source": [
    "# To iterate over the elements in a set\n",
    "for elt in a:\n",
    "    print (elt)\n"
   ]
  },
  {
   "cell_type": "code",
   "execution_count": null,
   "metadata": {},
   "outputs": [],
   "source": [
    "# To convert a set into a list\n",
    "p = list(a)\n",
    "p"
   ]
  },
  {
   "cell_type": "code",
   "execution_count": null,
   "metadata": {},
   "outputs": [],
   "source": [
    "help(set)\n"
   ]
  },
  {
   "cell_type": "markdown",
   "metadata": {},
   "source": [
    "# Dictionary\n",
    "\n",
    "A dictionary is an unordered collection of <i>key-value</i> pairs. The keys\n",
    "are unique and have to be immutable types like numbers or strings. In other\n",
    "languages a dictionary is called an <i>associative array</i>, <i>hash</i>,\n",
    "or <i>map</i>. There are two ways you can create a dictionary. You can\n",
    "start with an empty dictionary and add key-value pairs or you can enumerate\n",
    "key-value pairs. The syntax for doing so is shown below:\n",
    "<pre>\n",
    "  phone_book = {}\n",
    "  phone_book['Mickey Mouse'] = '409-896-4861'\n",
    "  phone_book['Donald Duck'] = '409-896-5007'\n",
    "\n",
    "  phone_book = {'Mickey Mouse':'409-896-4861', 'Donald Duck':'409-896-5007'}\n",
    "</pre>\n",
    "Since keys are unique, you can always extract the value by using the key\n",
    "as the index. However, you cannot get the key easily if you just know the \n",
    "value, since values are not unique. You can also assign values if you know \n",
    "the key. If the key does not exist, a new key-value pair is created in the\n",
    "dictionary. If the key already exists, the old value gets over-written.\n",
    "To iterate through all the entries in a dictionary you can do:\n",
    "```python\n",
    "  for key in dict:\n",
    "    print (dict[key])\n",
    "```\n",
    "</p>\n",
    "\n"
   ]
  },
  {
   "cell_type": "markdown",
   "metadata": {},
   "source": [
    "There are several built-in functions that makes it easy to manipulate\n",
    "a dictionary.\n",
    "<table border = \"1\" width = \"75%\">\n",
    "<tr>\n",
    "<th> Function </th><th> Meaning </th>\n",
    "</tr>\n",
    "<tr>\n",
    "<td> <i>dict</i>.has_key (<i>key</i>) </td>\n",
    "<td> Returns True if the dictionary contains the specified key and False\n",
    "otherwise. </td>\n",
    "</tr>\n",
    "</tr>\n",
    "<tr>\n",
    "<td> <i>key</i> in <i>dict</i> </td>\n",
    "<td> Returns True if the dictionary contains the specified key and False\n",
    "otherwise. </td>\n",
    "<tr>\n",
    "<td> <i>dict</i>.keys() </td>\n",
    "<td> Returns a list of keys. </td>\n",
    "</tr>\n",
    "<tr>\n",
    "<td> <i>dict</i>.values() </td>\n",
    "<td> Returns a list of values. </td>\n",
    "</tr>\n",
    "<tr>\n",
    "<td> <i>dict</i>.items() </td>\n",
    "<td> Returns a list of tuples representing key-value pairs. </td>\n",
    "</tr>\n",
    "<tr>\n",
    "<td> <i>dict</i>.get (<i>key</i>, <i>default</i>) </td>\n",
    "<td> If the dictionary has the key it returns the value, otherwise it\n",
    "returns the default value. </td>\n",
    "</tr>\n",
    "<tr>\n",
    "<td> del <i>dict</i>[<i>key</i>] </td>\n",
    "<td> Deletes the specified entry. </td>\n",
    "</tr>\n",
    "<tr>\n",
    "<td> <i>dict</i>.clear() </td>\n",
    "<td> Deletes all entries. </td>\n",
    "</tr>\n",
    "</table>\n",
    "</p>\n"
   ]
  },
  {
   "cell_type": "markdown",
   "metadata": {},
   "source": [
    "# Why use a particular structure?\n",
    "\n",
    "**List** – A list is mutable, so if you want to change elements, a list is a good choice. Lists also provide order as a list contains values in the order they are added to the list (items can be added to either end or at a particular index.\n",
    "\n",
    "**Tuples** – Tuples are immutable. They are a good way to group items together such as a row of a database. If you know that you do not need to change values, and you want items grouped together, this is a good choice.\n",
    "\n",
    "**DICTIONARIES** – Dictionaries are the most powerful structure of these choices. Dictionaries are fast. You can look up items by an immutable key value. Dictionary entries are not necessarily in the order that they were entered.\n",
    "\n",
    "\n",
    "Dictionaries are also called look-up tables (hash tables - we will learn about hash tables).\n",
    "\n",
    "Keep in mind that a key value must be *hashable* meaning that it must be *immutable*. \n",
    "For example, a tuple could be used as a key value, but a list cannot. Basic dictionaries cannot have different values for the same key. The second entry for a key would overwrite the first entry. (We will solve this problem in later modules.)\n",
    "\n",
    "\n"
   ]
  },
  {
   "cell_type": "markdown",
   "metadata": {},
   "source": [
    "---------\n",
    "---------\n"
   ]
  },
  {
   "cell_type": "markdown",
   "metadata": {},
   "source": [
    "# Python Collection Library\n",
    "\n",
    "https://docs.python.org/3/library/collections.html \n",
    "\n",
    "\n",
    "```python\n",
    "from collection import * \n",
    "```\n",
    "\n",
    "\n",
    "- **namedtuple()**\n",
    "\n",
    "factory function for creating tuple subclasses with named fields\n",
    "\n",
    "- **deque**\n",
    "\n",
    "list like container with fast appends and pops on either end\n",
    "\n",
    "- **ChainMap**\n",
    "\n",
    "\n",
    "dict-like class for creating a single view of multiple mappings\n",
    "\n",
    "\n",
    "- **Counter**\n",
    "\n",
    "dict subclass for counting hashable objects\n",
    "\n",
    "\n",
    "- **OrderedDict**\n",
    "\n",
    "dict subclass that remembers the order entries were added\n",
    "\n",
    "\n",
    "- **defaultdict**\n",
    "\n",
    "dict subclass that calls a factory function to supply missing values\n",
    "\n",
    "\n",
    "- **UserDict**\n",
    "\n",
    "wrapper around dictionary objects for easier dict subclassing\n",
    "\n",
    "- **UserList**\n",
    "\n",
    "wrapper around list objects for easier list subclassing\n",
    "\n",
    "- **UserString**\n",
    "\n",
    "wrapper around string objects for easier string subclassing"
   ]
  },
  {
   "cell_type": "code",
   "execution_count": null,
   "metadata": {},
   "outputs": [],
   "source": []
  }
 ],
 "metadata": {
  "kernelspec": {
   "display_name": "Python 3",
   "language": "python",
   "name": "python3"
  },
  "language_info": {
   "codemirror_mode": {
    "name": "ipython",
    "version": 3
   },
   "file_extension": ".py",
   "mimetype": "text/x-python",
   "name": "python",
   "nbconvert_exporter": "python",
   "pygments_lexer": "ipython3",
   "version": "3.8.3"
  }
 },
 "nbformat": 4,
 "nbformat_minor": 4
}
