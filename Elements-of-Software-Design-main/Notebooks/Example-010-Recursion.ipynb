{
 "cells": [
  {
   "cell_type": "markdown",
   "metadata": {},
   "source": [
    "# Recursion \n",
    "<p>\n",
    "A recursive method is a method that calls itself.  An iterative method is \n",
    "a method that uses a loop to repeat an action.  Anything that can be done \n",
    "iteratively can be done recursively, and vice versa.  Iterative algorithms \n",
    "and methods are generally more efficient than recursive algorithms.\n",
    "</p>\n",
    "\n",
    "<p>\n",
    "Recursion is based on two key problem solving concepts: divide and conquer \n",
    "and self-similarity.  A recursive solution solves a problem by solving a \n",
    "smaller instance of the same problem. It solves this new problem by solving \n",
    "an even smaller instance of the same problem. Eventually, the new problem will \n",
    "be so small that its solution will either be obvious or known. This solution \n",
    "will lead to the solution of the original problem.\n",
    "</p>\n",
    "\n",
    "<p>\n",
    "A recursive definition consists of two parts: a recursive part in which the \n",
    "nth value is defined in terms of the (n-1)th value, and a non recursive \n",
    "boundary case or base case which defines a limiting condition. An infinite \n",
    "repetition will result if a recursive definition is not properly bounded. \n",
    "In a recursive algorithm, each recursive call must make progress toward the \n",
    "bound, or base case.  A recursion parameter is a parameter whose value is \n",
    "used to control the progress of the recursion towards its bound.\n",
    "</p>\n",
    "\n",
    "<p>\n",
    "Function call and return in Python uses a last-in-first-out protocol. As \n",
    "each method call is made, a representation of the method call is place on \n",
    "the method call stack. When a method returns, its block is removed from the \n",
    "top of the stack.\n",
    "</p>\n",
    "\n",
    "<p>\n",
    "Use an iterative algorithm instead of a recursive algorithm \n",
    "whenever efficiency and memory usage are important design factors.  When all \n",
    "other factors are equal, choose the algorithm (recursive or iterative) that \n",
    "is easiest to understand, develop, and maintain.\n",
    "</p>\n",
    "\n",
    "\n"
   ]
  },
  {
   "cell_type": "markdown",
   "metadata": {},
   "source": [
    "## Calculatating Factorial \n",
    "\n",
    "A simple way to calculate it is using a for loop\n"
   ]
  },
  {
   "cell_type": "code",
   "execution_count": 1,
   "metadata": {},
   "outputs": [
    {
     "data": {
      "text/plain": [
       "3628800"
      ]
     },
     "execution_count": 1,
     "metadata": {},
     "output_type": "execute_result"
    }
   ],
   "source": [
    "def fact(n):\n",
    "    fact = 1\n",
    "    for i in range(1,n+1):\n",
    "        fact = fact * i\n",
    "    return fact\n",
    "\n",
    "# Calculate 10!\n",
    "fact(10)"
   ]
  },
  {
   "cell_type": "markdown",
   "metadata": {},
   "source": [
    "Here is an example of a **recursive method** that calculates the factorial\n",
    "of **n**. \n",
    "    \n",
    "- The base case occurs when n is equal to 0. \n",
    "\n",
    "- We know that 0! is equal to 1. Otherwise we use the relationship n! = n * ( n - 1 )!\n",
    "\n"
   ]
  },
  {
   "cell_type": "code",
   "execution_count": 2,
   "metadata": {},
   "outputs": [
    {
     "data": {
      "text/plain": [
       "3628800"
      ]
     },
     "execution_count": 2,
     "metadata": {},
     "output_type": "execute_result"
    }
   ],
   "source": [
    "def fact(n):\n",
    "  if(n == 0):\n",
    "    return 1\n",
    "  else:\n",
    "    return n * fact(n - 1)\n",
    "\n",
    "# Calculate 10!\n",
    "fact(10)"
   ]
  },
  {
   "cell_type": "markdown",
   "metadata": {},
   "source": [
    "## Fibonacci series\n",
    "\n",
    "In mathematics there are recurrence relations that are defined recursively.\n",
    "A recurrence relation defines a term in a sequence as a function of one\n",
    "or more previous terms. One of the most famous of such recurrence\n",
    "sequences is the  Fibonacci series. \n",
    "\n",
    "https://en.wikipedia.org/wiki/Fibonacci_number\n",
    "\n",
    "\n",
    "Other than the first two terms in\n",
    "this series, every term is defined as the sum of the previous two terms:\n",
    "\n",
    "<pre>\n",
    "  F(1) = 1\n",
    "  F(2) = 1\n",
    "  F(n) = F(n-1) + F(n-2) for n &gt; 2\n",
    "\n",
    "  1, 1, 2, 3, 5, 8, 13, 21, 34, 55, ...\n",
    "</pre>\n",
    "Here is the Python code that generates this series:\n",
    "\n"
   ]
  },
  {
   "cell_type": "code",
   "execution_count": 3,
   "metadata": {},
   "outputs": [
    {
     "name": "stdout",
     "output_type": "stream",
     "text": [
      "55\n"
     ]
    }
   ],
   "source": [
    "def fibonacci(n):\n",
    "    \"\"\"Iterative Implementation of Fibonacci number\"\"\"\n",
    "    a,b = 0,1\n",
    "    for i in range(n):\n",
    "        a,b = b,a+b\n",
    "    return a\n",
    "\n",
    "print(fibonacci(10))"
   ]
  },
  {
   "cell_type": "code",
   "execution_count": 4,
   "metadata": {},
   "outputs": [
    {
     "data": {
      "text/plain": [
       "55"
      ]
     },
     "execution_count": 4,
     "metadata": {},
     "output_type": "execute_result"
    }
   ],
   "source": [
    "def fib(n):\n",
    "    if ((n == 1) or (n == 2)):\n",
    "        return 1\n",
    "    else:\n",
    "        return fib(n - 1) + fib (n - 2)\n",
    "    \n",
    "# fib(10)\n",
    "fib(10)"
   ]
  },
  {
   "cell_type": "code",
   "execution_count": null,
   "metadata": {},
   "outputs": [],
   "source": []
  },
  {
   "cell_type": "markdown",
   "metadata": {},
   "source": [
    "Even though the series is defined recursively, the above code is extremely\n",
    "inefficient in determining the terms in a Fibonacci series **(why?)**. \n",
    "\n",
    "An iterative solution works best in this case."
   ]
  },
  {
   "cell_type": "markdown",
   "metadata": {},
   "source": [
    "However, there are sorting algorithms that use recursion that are extremely\n",
    "efficient in what they do. One example of such a sorting algorithm is\n",
    "MergeSort. Let us say you have a list of numbers to sort. \n",
    "\n",
    "Then this algorithm can be stated as follows: Divide the list in half. Sort one\n",
    "half, sort the other half and then merge the two sorted halves. You keep\n",
    "dividing each half until you are down to one item. That item is sorted!\n",
    "\n",
    "You then merge that item with another single item and work backwards merging\n",
    "sorted sub-lists until you have the complete list.\n",
    "\n",
    "This concept is used in Divide and Conquer algorithms.  \n",
    "\n",
    "https://en.wikipedia.org/wiki/Divide-and-conquer_algorithm \n",
    "\n",
    "    "
   ]
  },
  {
   "cell_type": "code",
   "execution_count": null,
   "metadata": {},
   "outputs": [],
   "source": []
  }
 ],
 "metadata": {
  "kernelspec": {
   "display_name": "Python 3",
   "language": "python",
   "name": "python3"
  },
  "language_info": {
   "codemirror_mode": {
    "name": "ipython",
    "version": 3
   },
   "file_extension": ".py",
   "mimetype": "text/x-python",
   "name": "python",
   "nbconvert_exporter": "python",
   "pygments_lexer": "ipython3",
   "version": "3.8.3"
  }
 },
 "nbformat": 4,
 "nbformat_minor": 4
}
