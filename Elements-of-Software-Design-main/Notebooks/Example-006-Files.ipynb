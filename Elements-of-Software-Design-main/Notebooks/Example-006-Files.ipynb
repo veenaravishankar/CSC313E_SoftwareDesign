{
 "cells": [
  {
   "cell_type": "markdown",
   "metadata": {},
   "source": [
    "# Working with Files in Python \n",
    "\n",
    "## Opening / Closing Files\n",
    "\n",
    "It is relatively simple to to do file manipulation in Python. To process a file it has to be opened. Python offers 3 modes for opening a file - read (\"r\"), write (\"w\"), and append (\"a\"). The syntax for opening a file is as follows:\n",
    "\n",
    "```python\n",
    "  fileVar = open (\"fileName\", \"mode\")\n",
    "```\n",
    "\n",
    "\n",
    "For example,\n",
    "\n",
    "```python\n",
    "  in_file = open (\"input.txt\", \"r\")\n",
    "```\n",
    "\n",
    "To close a file simply do\n",
    "\n",
    "```python\n",
    "  in_file.close()\n",
    "```"
   ]
  },
  {
   "cell_type": "markdown",
   "metadata": {},
   "source": [
    "To read a file, the file must not only exist but also have read permissions. \n",
    "Whereas, if the file does not exist in the write mode a new file with that name is created. \n",
    "\n",
    "* If you open a file in write mode and there is already an existing file then the original contents get over-written. \n",
    "* If you wish to preserve the original content and still write to the file then open it in append mode. Files must be closed at the end of the operation."
   ]
  },
  {
   "cell_type": "markdown",
   "metadata": {},
   "source": [
    "<h4> Reading a Text File </h4>\n",
    "<p>\n",
    "You have several options in reading a file. If the file is small then it can\n",
    "be read in as a single string. The command to do so is <i>read()</i>.\n",
    "\n",
    "```python\n",
    "  in_file = open (\"input.txt\", \"r\")\n",
    "  file_content = in_file.read()\n",
    "```\n",
    "\n",
    "However, if the file is too large to fit in memory, then you will have to read \n",
    "the file line by line. The command to do so is <i>readline()</i>. This\n",
    "will read in all characters including the terminating newline character. To\n",
    "read remaining lines in the file you can use the command <i>readlines()</i>.\n",
    "The simplest way to read a file line by line would be to:\n",
    "```python\n",
    "  in_file = open (\"input.txt\", \"r\")\n",
    "  for line in in_file:\n",
    "    #  process the line\n",
    "    line = line.rstrip(\"\\n\")   # strip the newline character at the end\n",
    "    ...\n",
    "  in_file.close()\n",
    "```\n",
    "\n",
    "</p>\n",
    "\n",
    "<h4> Writing / Appending to a Text File </h4>\n",
    "<p>\n",
    "To write to a file, the files must be opened for writing. If it is opened\n",
    "in \"w\" mode then the previous content will be overwritten. If it is \n",
    "opened in \"a\" mode then the new content will added to the end of the previous\n",
    "content. Python provides the command <i>write()</i> to write or append to\n",
    "a file. You must explicitly add the newline character (<i>\\n</i>) to the\n",
    "end of each line.\n",
    "\n",
    "```python\n",
    "  out_file = open (\"output.txt\", \"w\")\n",
    "  out_file.write (\"This is a line. \\n\")\n",
    "  out_file.close()\n",
    "```\n",
    "\n",
    "The <i>write()</i> function takes a string as input parameter.\n",
    "</p>\n",
    "\n",
    "</body>\n",
    "</html>"
   ]
  },
  {
   "cell_type": "code",
   "execution_count": 1,
   "metadata": {},
   "outputs": [],
   "source": [
    "# Let us write a file to this \n",
    "\n",
    "out_file = open (\"test.txt\", \"w\")\n",
    "out_file.write (\"This is a line. \\n\")\n",
    "out_file.write (\"This is a second line. \\n\")\n",
    "\n",
    "out_file.close()\n",
    "\n"
   ]
  },
  {
   "cell_type": "code",
   "execution_count": 3,
   "metadata": {},
   "outputs": [
    {
     "name": "stdout",
     "output_type": "stream",
     "text": [
      "Example-001-Python-Conditions.ipynb   Example-009-Lambda-Functions.ipynb\r\n",
      "Example-002-Math-in-Python.ipynb      Example-010-Recursion.ipynb\r\n",
      "Example-003-Python-Loops.ipynb        Example-011-OOP.ipynb\r\n",
      "Example-004-Python-Lists.ipynb        Example-012-OOP-ClassP.ipynb\r\n",
      "Example-005-Strings.ipynb             Example-013_growth_of_functions.ipynb\r\n",
      "Example-006-Files.ipynb               Example_014_BigO_Visualization.ipynb\r\n",
      "Example-007-Exception-Handling.ipynb  test.txt\r\n",
      "Example-008-Tuples-Sets-Dicts.ipynb\r\n"
     ]
    }
   ],
   "source": [
    "! ls"
   ]
  },
  {
   "cell_type": "code",
   "execution_count": 4,
   "metadata": {},
   "outputs": [
    {
     "name": "stdout",
     "output_type": "stream",
     "text": [
      "This is a line. \r\n",
      "This is a second line. \r\n"
     ]
    }
   ],
   "source": [
    "! cat test.txt"
   ]
  },
  {
   "cell_type": "code",
   "execution_count": 2,
   "metadata": {},
   "outputs": [],
   "source": [
    "# On your system you can check if the file is created or not. \n",
    "\n",
    "# on Mac or Linux you can use the following list command\n",
    "\n",
    "# Uncomment the following line \n",
    "# !ls -la "
   ]
  },
  {
   "cell_type": "code",
   "execution_count": 5,
   "metadata": {},
   "outputs": [
    {
     "data": {
      "text/plain": [
       "'This is a line. \\nThis is a second line. \\n'"
      ]
     },
     "execution_count": 5,
     "metadata": {},
     "output_type": "execute_result"
    }
   ],
   "source": [
    "# now we open it and read it back\n",
    "\n",
    "in_file = open (\"test.txt\", \"r\")\n",
    "file_content = in_file.read()\n",
    "\n",
    "file_content\n",
    "\n",
    "# What are those \"\\n\"???"
   ]
  },
  {
   "cell_type": "code",
   "execution_count": 4,
   "metadata": {},
   "outputs": [
    {
     "name": "stdout",
     "output_type": "stream",
     "text": [
      "This is a line. \n",
      "This is a second line. \n"
     ]
    }
   ],
   "source": [
    "# Now, we open the file and read it line by line. \n",
    "\n",
    "in_file = open (\"test.txt\", \"r\")\n",
    "\n",
    "for line in in_file:\n",
    "    #  process the line\n",
    "    line = line.rstrip(\"\\n\")   # strip the newline character at the end\n",
    "    print(line)\n",
    "    \n",
    "in_file.close()"
   ]
  },
  {
   "cell_type": "code",
   "execution_count": 5,
   "metadata": {},
   "outputs": [
    {
     "ename": "FileNotFoundError",
     "evalue": "[Errno 2] No such file or directory: '/NOT-EXITING-PATH/NOT-EXISTING-FILE'",
     "output_type": "error",
     "traceback": [
      "\u001b[0;31m---------------------------------------------------------------------------\u001b[0m",
      "\u001b[0;31mFileNotFoundError\u001b[0m                         Traceback (most recent call last)",
      "\u001b[0;32m<ipython-input-5-5161ce4217c8>\u001b[0m in \u001b[0;36m<module>\u001b[0;34m\u001b[0m\n\u001b[1;32m      1\u001b[0m \u001b[0;31m# What happens when I try to open a file that doest not exist on this machine\u001b[0m\u001b[0;34m\u001b[0m\u001b[0;34m\u001b[0m\u001b[0;34m\u001b[0m\u001b[0m\n\u001b[1;32m      2\u001b[0m \u001b[0;34m\u001b[0m\u001b[0m\n\u001b[0;32m----> 3\u001b[0;31m \u001b[0min_file\u001b[0m \u001b[0;34m=\u001b[0m \u001b[0mopen\u001b[0m \u001b[0;34m(\u001b[0m\u001b[0;34m\"/NOT-EXITING-PATH/NOT-EXISTING-FILE\"\u001b[0m\u001b[0;34m,\u001b[0m \u001b[0;34m\"r\"\u001b[0m\u001b[0;34m)\u001b[0m\u001b[0;34m\u001b[0m\u001b[0;34m\u001b[0m\u001b[0m\n\u001b[0m\u001b[1;32m      4\u001b[0m \u001b[0mfile_content\u001b[0m \u001b[0;34m=\u001b[0m \u001b[0min_file\u001b[0m\u001b[0;34m.\u001b[0m\u001b[0mread\u001b[0m\u001b[0;34m(\u001b[0m\u001b[0;34m)\u001b[0m\u001b[0;34m\u001b[0m\u001b[0;34m\u001b[0m\u001b[0m\n\u001b[1;32m      5\u001b[0m \u001b[0;34m\u001b[0m\u001b[0m\n",
      "\u001b[0;31mFileNotFoundError\u001b[0m: [Errno 2] No such file or directory: '/NOT-EXITING-PATH/NOT-EXISTING-FILE'"
     ]
    }
   ],
   "source": [
    "# What happens when I try to open a file that doest not exist on this machine \n",
    "\n",
    "in_file = open (\"/NOT-EXITING-PATH/NOT-EXISTING-FILE\", \"r\")\n",
    "file_content = in_file.read()\n",
    "\n",
    "file_content\n",
    "\n",
    "# We get a FileNotFoundError exception. \n",
    "\n",
    "# This is an error for illustration purpose! "
   ]
  },
  {
   "cell_type": "code",
   "execution_count": null,
   "metadata": {},
   "outputs": [],
   "source": []
  }
 ],
 "metadata": {
  "kernelspec": {
   "display_name": "Python 3",
   "language": "python",
   "name": "python3"
  },
  "language_info": {
   "codemirror_mode": {
    "name": "ipython",
    "version": 3
   },
   "file_extension": ".py",
   "mimetype": "text/x-python",
   "name": "python",
   "nbconvert_exporter": "python",
   "pygments_lexer": "ipython3",
   "version": "3.8.3"
  }
 },
 "nbformat": 4,
 "nbformat_minor": 4
}
