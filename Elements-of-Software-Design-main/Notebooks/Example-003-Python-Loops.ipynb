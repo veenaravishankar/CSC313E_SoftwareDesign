{
 "cells": [
  {
   "cell_type": "markdown",
   "metadata": {},
   "source": [
    "# Loops"
   ]
  },
  {
   "cell_type": "markdown",
   "metadata": {},
   "source": [
    "<p>\n",
    "The loop construct in Python allows you to repeat a body of code\n",
    "several times. There are two types of loops - definite loops and\n",
    "indefinite loops. You use a definite loop when you know a priori\n",
    "how many times you will be executing the body of the loop. You \n",
    "use key word <b><i>for</i></b> to begin such a loop. \n",
    "    \n",
    "You use an\n",
    "indefinite loop when you do not know a priori how many times you\n",
    "will be executing the body of the loop. The loop body may be \n",
    "executed zero or more times. You use the key word <b><i>while</i></b>\n",
    "to begin indefinite loops.\n",
    "</p>\n",
    "\n",
    "<p>\n",
    "To write an efficient loop structure you must ask yourself 3 \n",
    "questions:\n",
    "</p>\n",
    "\n",
    "<ul>\n",
    "<li> Where do I start? </li>\n",
    "<li> When do I end? </li>\n",
    "<li> How do I go from one iteration of the loop to the next? </li>\n",
    "</ul>\n"
   ]
  },
  {
   "cell_type": "markdown",
   "metadata": {},
   "source": [
    "\n",
    "## While Loop\n",
    "\n",
    "<p>\n",
    "Syntactically the simplest loop construct is the <b><i>while</i></b>\n",
    "loop.\n",
    "    \n",
    "```python\n",
    "  while cond :\n",
    "    ...\n",
    "    loop_body\n",
    "    ...\n",
    "```\n",
    "\n",
    "The term <i>cond</i> is a boolean expression. The body of the loop\n",
    "gets executed if the value of <i>cond</i> is <i>True</i> and terminates\n",
    "when <i>cond</i> is <i>False</i>. If <i>cond</i> is <i>False</i> to\n",
    "start with then the body of the loop does not get executed even once.\n",
    "</p>\n",
    "\n"
   ]
  },
  {
   "cell_type": "markdown",
   "metadata": {},
   "source": [
    "### Example"
   ]
  },
  {
   "cell_type": "code",
   "execution_count": 1,
   "metadata": {},
   "outputs": [
    {
     "name": "stdout",
     "output_type": "stream",
     "text": [
      "Counter is:  1\n",
      "Counter is:  2\n",
      "Counter is:  3\n",
      "Counter is:  4\n"
     ]
    }
   ],
   "source": [
    "x=1\n",
    "while x<=4:\n",
    "    print(\"Counter is: \", x)\n",
    "    x+=1"
   ]
  },
  {
   "cell_type": "markdown",
   "metadata": {},
   "source": [
    "## For-Loop"
   ]
  },
  {
   "cell_type": "code",
   "execution_count": 2,
   "metadata": {},
   "outputs": [
    {
     "name": "stdout",
     "output_type": "stream",
     "text": [
      "1,3,5,7,9,"
     ]
    }
   ],
   "source": [
    "a = range(1, 10, 2)\n",
    "for item in a:\n",
    "    print(item, end=\",\")"
   ]
  },
  {
   "cell_type": "code",
   "execution_count": 3,
   "metadata": {},
   "outputs": [
    {
     "name": "stdout",
     "output_type": "stream",
     "text": [
      "0,1,2,3,4,5,6,7,8,9,"
     ]
    }
   ],
   "source": [
    "a = range(10)\n",
    "\n",
    "i = 0\n",
    "\n",
    "while i < len(a):\n",
    "    print(a[i], end=\",\")\n",
    "    i+=1"
   ]
  },
  {
   "cell_type": "markdown",
   "metadata": {},
   "source": [
    "<p>\n",
    "A definite loop starts with <i>for</i> and then the sequence or range\n",
    "is given. A definite loop uses a loop counter. By convention, we use\n",
    "<i>i</i> as the loop counter but any variable could be used in its \n",
    "place. Here are several examples of the use of the <i>for</i> loop.\n",
    "</p>\n",
    "\n",
    "<p>\n",
    "Write a loop that executes the body 10 times.\n",
    "\n",
    "```python\n",
    "for i in range(10):\n",
    "  ...\n",
    "  loop_body\n",
    "  ...\n",
    "```\n",
    "    \n",
    "The loop counter <i>i</i> goes through the values 0 through 9 as the\n",
    "loop iterates. \n",
    "</p>\n"
   ]
  },
  {
   "cell_type": "code",
   "execution_count": 4,
   "metadata": {},
   "outputs": [
    {
     "name": "stdout",
     "output_type": "stream",
     "text": [
      "0\n",
      "1\n",
      "2\n",
      "3\n",
      "4\n",
      "5\n",
      "6\n",
      "7\n",
      "8\n",
      "9\n"
     ]
    }
   ],
   "source": [
    "for i in range(10):\n",
    "    print(i)  "
   ]
  },
  {
   "cell_type": "markdown",
   "metadata": {},
   "source": [
    "\n",
    "<p>\n",
    "We can also specify the beginning and ending value of <i>i</i>. Let us \n",
    "say we wanted <i>i</i> to start at 3 and end at 14. Then the loop could\n",
    "be written as:\n",
    "\n",
    "```python\n",
    "    \n",
    "for i in range(3, 15):\n",
    "  ...\n",
    "  loop_body\n",
    "  ...\n",
    "```\n",
    "    \n",
    "Note that we used 15 instead of 14 as the ending value since the ending\n",
    "value is not inclusive. The loop counter <i>i</i> will take all the\n",
    "values between 3 and 14 both inclusive in the above piece of code.\n",
    "</p>"
   ]
  },
  {
   "cell_type": "code",
   "execution_count": 5,
   "metadata": {},
   "outputs": [
    {
     "name": "stdout",
     "output_type": "stream",
     "text": [
      "3\n",
      "4\n",
      "5\n",
      "6\n",
      "7\n",
      "8\n",
      "9\n",
      "10\n",
      "11\n",
      "12\n",
      "13\n",
      "14\n"
     ]
    }
   ],
   "source": [
    "for i in range(3, 15):\n",
    "    print(i)\n",
    "  "
   ]
  },
  {
   "cell_type": "markdown",
   "metadata": {},
   "source": [
    "We can also specify the step size for the loop counter. \n",
    "\n",
    "```python\n",
    "for i in range (1, 10, 2):\n",
    "  ...\n",
    "  loop_body\n",
    "  ...\n",
    "```\n",
    "    \n",
    "Here <i>i</i> will take all the odd values from 1 to 9 inclusive.\n"
   ]
  },
  {
   "cell_type": "code",
   "execution_count": 6,
   "metadata": {},
   "outputs": [
    {
     "name": "stdout",
     "output_type": "stream",
     "text": [
      "1\n",
      "3\n",
      "5\n",
      "7\n",
      "9\n"
     ]
    }
   ],
   "source": [
    "for i in range (1, 10, 2):\n",
    "    print(i)"
   ]
  },
  {
   "cell_type": "markdown",
   "metadata": {},
   "source": [
    "<p>\n",
    "If the step size is not uniform and cannot be expressed by a simple\n",
    "mathematical formula then we can also enumerate all the values that\n",
    "the loop counter <i>i</i> will take. The set of values that <i>i</i>\n",
    "will take is called a <i>sequence</i>. \n",
    "    \n",
    "```python\n",
    "    \n",
    "for i in [7, 4, 18, 12]:\n",
    "  ...\n",
    "  loop_body\n",
    "  ...\n",
    "```\n",
    "    \n",
    "Note that stating the sequence only works for a small set of numbers\n",
    "but becomes cumbersome if you have to write lots of numbers explicitly\n",
    "in your program.\n",
    "</p>\n",
    "\n"
   ]
  },
  {
   "cell_type": "code",
   "execution_count": 7,
   "metadata": {},
   "outputs": [
    {
     "name": "stdout",
     "output_type": "stream",
     "text": [
      "7\n",
      "4\n",
      "18\n",
      "12\n"
     ]
    }
   ],
   "source": [
    "for i in [7, 4, 18, 12]:\n",
    "    print(i)    "
   ]
  },
  {
   "cell_type": "markdown",
   "metadata": {},
   "source": [
    "## Break and Continue \n",
    "\n",
    "\n",
    "\n",
    "<p>\n",
    "There are times when you may want to stop executing the body of the\n",
    "loop even before the iteration has ended. This may happen if you have\n",
    "already found the answer that you were looking for and you do not\n",
    "want to either waste computing time or introduce extraneous values\n",
    "in your computation. In such situations use the keyword \n",
    "<b><i>break</i></b>. This will cause execution of the loop to stop\n",
    "or <i>break</i> at that point. \n",
    "</p>\n",
    "\n",
    "<p>\n",
    "There are other occasions where you may not want to execute the remaining\n",
    "code in the body of the loop but start the next iteration. The keyword\n",
    "to use in this situation is <b><i>continue</i></b>. Using the \n",
    "<i>continue</i> statement will not stop the execution of the loop but\n",
    "start the next iteration.\n",
    "</p>"
   ]
  },
  {
   "cell_type": "code",
   "execution_count": 8,
   "metadata": {},
   "outputs": [
    {
     "name": "stdout",
     "output_type": "stream",
     "text": [
      "10\n"
     ]
    }
   ],
   "source": [
    "# The following code may not have so much sense but its purpose is to illustrate what the break keyword does. \n",
    "\n",
    "for i in range(1,100):\n",
    "    if i%10==0 :\n",
    "        print(i)\n",
    "        break        \n"
   ]
  },
  {
   "cell_type": "code",
   "execution_count": 9,
   "metadata": {},
   "outputs": [
    {
     "name": "stdout",
     "output_type": "stream",
     "text": [
      "1\n",
      "3\n"
     ]
    }
   ],
   "source": [
    "# Usage of contiue keyword\n",
    "\n",
    "for i in range(1,4):\n",
    "    if i%2==0 :\n",
    "        continue \n",
    "    print(i)\n",
    "      "
   ]
  },
  {
   "cell_type": "code",
   "execution_count": 10,
   "metadata": {},
   "outputs": [
    {
     "name": "stdout",
     "output_type": "stream",
     "text": [
      "1\n",
      "3\n"
     ]
    }
   ],
   "source": [
    "for i in range(1,4,2):\n",
    "    print(i)"
   ]
  },
  {
   "cell_type": "code",
   "execution_count": null,
   "metadata": {},
   "outputs": [],
   "source": []
  }
 ],
 "metadata": {
  "kernelspec": {
   "display_name": "Python 3 (ipykernel)",
   "language": "python",
   "name": "python3"
  },
  "language_info": {
   "codemirror_mode": {
    "name": "ipython",
    "version": 3
   },
   "file_extension": ".py",
   "mimetype": "text/x-python",
   "name": "python",
   "nbconvert_exporter": "python",
   "pygments_lexer": "ipython3",
   "version": "3.9.13"
  }
 },
 "nbformat": 4,
 "nbformat_minor": 4
}
