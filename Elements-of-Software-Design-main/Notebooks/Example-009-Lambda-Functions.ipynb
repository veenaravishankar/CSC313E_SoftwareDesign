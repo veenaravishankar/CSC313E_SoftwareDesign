{
 "cells": [
  {
   "cell_type": "markdown",
   "metadata": {},
   "source": [
    "# Lambda Functions"
   ]
  },
  {
   "cell_type": "markdown",
   "metadata": {},
   "source": [
    "Lambda functions have their roots in Lambda Calculus\n",
    "\n",
    "https://en.wikipedia.org/wiki/Lambda_calculus \n",
    "\n",
    "\n",
    "It is sometimes useful to create functions inline in short form without having a name for it.\n",
    "\n",
    "https://en.wikipedia.org/wiki/Anonymous_function\n",
    "\n",
    "Python functions defined on the fly are called lambda expressions. "
   ]
  },
  {
   "cell_type": "code",
   "execution_count": 1,
   "metadata": {},
   "outputs": [
    {
     "data": {
      "text/plain": [
       "4"
      ]
     },
     "execution_count": 1,
     "metadata": {},
     "output_type": "execute_result"
    }
   ],
   "source": [
    "# We have learned how we define functions like this. \n",
    "def addTwo (a, b):\n",
    "    return a + b\n",
    "\n",
    "addTwo(2,2)"
   ]
  },
  {
   "cell_type": "code",
   "execution_count": 2,
   "metadata": {},
   "outputs": [
    {
     "data": {
      "text/plain": [
       "4"
      ]
     },
     "execution_count": 2,
     "metadata": {},
     "output_type": "execute_result"
    }
   ],
   "source": [
    "# The above can be written as the following without having a name for this function. \n",
    "(lambda a,b: a+b)(2,2)\n"
   ]
  },
  {
   "cell_type": "code",
   "execution_count": 3,
   "metadata": {},
   "outputs": [
    {
     "data": {
      "text/plain": [
       "[3, 8, 15, 24, 35]"
      ]
     },
     "execution_count": 3,
     "metadata": {},
     "output_type": "execute_result"
    }
   ],
   "source": [
    "a = [2,3,4,5,6,]\n",
    "\n",
    "list(map(lambda x: x**2-1, a))"
   ]
  },
  {
   "cell_type": "code",
   "execution_count": 3,
   "metadata": {},
   "outputs": [
    {
     "data": {
      "text/plain": [
       "False"
      ]
     },
     "execution_count": 3,
     "metadata": {},
     "output_type": "execute_result"
    }
   ],
   "source": [
    "# another Example\n",
    "x = \"Chris\"\n",
    "\n",
    "(lambda name: True if name == \"Bob\" else False)(x)\n"
   ]
  },
  {
   "cell_type": "markdown",
   "metadata": {},
   "source": [
    "# Storing functions in a list \n"
   ]
  },
  {
   "cell_type": "code",
   "execution_count": 4,
   "metadata": {},
   "outputs": [
    {
     "name": "stdout",
     "output_type": "stream",
     "text": [
      "LOWER CASE: hello world\n",
      "UPPER CASE: HELLO WORLD\n",
      "Head: Hello\n",
      "Tail: World\n"
     ]
    }
   ],
   "source": [
    "my_functions = [lambda s: 'LOWER CASE: ' + s.lower(),\n",
    "                lambda s: 'UPPER CASE: ' + s.upper(),\n",
    "                lambda s: 'Head: ' + s[:5],\n",
    "                lambda s: 'Tail: ' + s[-5:]\n",
    "                ]\n",
    "\n",
    "for i in range(len(my_functions)): \n",
    "    print(my_functions[i]('Hello World'))\n",
    "\n",
    "for i in range(len(my_functions)): \n",
    "    print(my_functions[i]('Hello Austin'))"
   ]
  },
  {
   "cell_type": "code",
   "execution_count": null,
   "metadata": {},
   "outputs": [],
   "source": []
  }
 ],
 "metadata": {
  "kernelspec": {
   "display_name": "Python 3",
   "language": "python",
   "name": "python3"
  },
  "language_info": {
   "codemirror_mode": {
    "name": "ipython",
    "version": 3
   },
   "file_extension": ".py",
   "mimetype": "text/x-python",
   "name": "python",
   "nbconvert_exporter": "python",
   "pygments_lexer": "ipython3",
   "version": "3.8.3"
  }
 },
 "nbformat": 4,
 "nbformat_minor": 4
}
